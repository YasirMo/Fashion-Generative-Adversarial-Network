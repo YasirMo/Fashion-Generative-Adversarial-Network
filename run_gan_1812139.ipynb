{
  "nbformat": 4,
  "nbformat_minor": 0,
  "metadata": {
    "colab": {
      "provenance": [],
      "authorship_tag": "ABX9TyPQngEumEXEmbOKTNlHT2ua",
      "include_colab_link": true
    },
    "kernelspec": {
      "name": "python3",
      "display_name": "Python 3"
    },
    "language_info": {
      "name": "python"
    },
    "accelerator": "GPU",
    "gpuClass": "standard"
  },
  "cells": [
    {
      "cell_type": "markdown",
      "metadata": {
        "id": "view-in-github",
        "colab_type": "text"
      },

    {
      "cell_type": "markdown",
      "source": [
        "# Fashion Generative Adversarial Network Results\n"
      ],
      "metadata": {
        "id": "Yf4vt3ytSt0Q"
      }
    },
    {
      "cell_type": "markdown",
      "source": [
        "###  Step 1 Connect to Google"
      ],
      "metadata": {
        "id": "AHoRztksNE1B"
      }
    },
    {
      "cell_type": "code",
      "execution_count": null,
      "metadata": {
        "colab": {
          "base_uri": "https://localhost:8080/"
        },
        "id": "u6V2YDwjM9S_",
        "outputId": "027372b8-4b7a-4ca7-8199-0bdfb0fd5a30"
      },
      "outputs": [
        {
          "output_type": "stream",
          "name": "stdout",
          "text": [
            "Mounted at /content/drive\n"
          ]
        }
      ],
      "source": [
        "from google.colab import drive ## Connecting to Google Colab drive\n",
        "\n",
        "drive.mount('/content/drive', force_remount=True)  ## Forcing the Mount"
      ]
    },
    {
      "cell_type": "markdown",
      "source": [
        "### Install StyleGan3 And Cuda"
      ],
      "metadata": {
        "id": "bDV7ZCP3NHTd"
      }
    },
    {
      "cell_type": "code",
      "source": [
        "!git clone https://github.com/NVlabs/stylegan3.git # install dependencies\n",
        "!pip install ninja\n",
        "!pip install \"jax[cuda11_cudnn805]==0.3.10\" -f https://storage.googleapis.com/jax-releases/jax_cuda_releases.html\n",
        "!pip install torch==1.8.1 torchvision==0.9.1"
      ],
      "metadata": {
        "id": "ZQ-pPO78NKCw"
      },
      "execution_count": null,
      "outputs": []
    },
    {
      "cell_type": "markdown",
      "source": [
        "#### Citation StyleGAN3\n",
        "@inproceedings{Karras2021,\n",
        "  author = {Tero Karras and Miika Aittala and Samuli Laine and Erik H\\\"ark\\\"onen and Janne Hellsten and Jaakko Lehtinen and Timo Aila},\n",
        "  title = {Alias-Free Generative Adversarial Networks},\n",
        "  booktitle = {Proc. NeurIPS},\n",
        "  year = {2021}\n",
        "}"
      ],
      "metadata": {
        "id": "4qemYGbk_wLJ"
      }
    },
    {
      "cell_type": "markdown",
      "source": [
        "## Generate The Fashion GAN Results"
      ],
      "metadata": {
        "id": "QxqG6cVlS2oy"
      }
    },
    {
      "cell_type": "code",
      "source": [
        "Path = \"https://github.com/YasirMo/FinalYearProject/releases/\"\\\n",
        "  \"download/network/network-snapshot-000000.pkl\"  # Completed pre-trained Fashion GAN network uploaded on My personal GitHub\n",
        "\n",
        "!python /content/stylegan3/gen_images.py \\\n",
        "    --network={Path} \\\n",
        "  --outdir=/content/results --seeds=4000-4100  # Sele ct number of images to generate"
      ],
      "metadata": {
        "id": "R59kCnSANNEe"
      },
      "execution_count": null,
      "outputs": []
    },
    {
      "cell_type": "markdown",
      "source": [
        "## Upload results to drive"
      ],
      "metadata": {
        "id": "VJ8V4RoeS6IY"
      }
    },
    {
      "cell_type": "code",
      "source": [
        "!ls /content/results\n",
        " # Check Google Colab content/result files for the results"
      ],
      "metadata": {
        "id": "J5AiYpJ8NsQH"
      },
      "execution_count": null,
      "outputs": []
    }
  ]
}
